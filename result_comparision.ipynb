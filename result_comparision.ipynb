{
 "cells": [
  {
   "cell_type": "code",
   "execution_count": 13,
   "metadata": {},
   "outputs": [
    {
     "name": "stdout",
     "output_type": "stream",
     "text": [
      "                                     problem  hybrid_vehicles  hybrid_cost  \\\n",
      "0  ORTEC-VRPTW-ASYM-00c5356f-d1-n258-k12.txt               13     111025.0   \n",
      "1  ORTEC-VRPTW-ASYM-01829532-d1-n324-k22.txt               18     234586.0   \n",
      "2  ORTEC-VRPTW-ASYM-02182cf8-d1-n327-k20.txt               15     158222.0   \n",
      "3  ORTEC-VRPTW-ASYM-04c694cd-d1-n254-k18.txt               12      85246.0   \n",
      "4  ORTEC-VRPTW-ASYM-0797afaf-d1-n313-k20.txt               18     139852.0   \n",
      "\n",
      "   ges_vehicles  ges_cost  sota_vehicles  sota_cost  \n",
      "0            13    113511              1          1  \n",
      "1            18    247729              1          1  \n",
      "2            15    166151              1          1  \n",
      "3            12     89858              1          1  \n",
      "4            18    140604              1          1  \n"
     ]
    },
    {
     "data": {
      "text/plain": [
       "hybrid_vehicles        16.662162\n",
       "hybrid_cost        161391.027027\n",
       "ges_vehicles           16.770270\n",
       "ges_cost           167103.027027\n",
       "sota_vehicles           1.000000\n",
       "sota_cost               1.000000\n",
       "dtype: float64"
      ]
     },
     "execution_count": 13,
     "metadata": {},
     "output_type": "execute_result"
    }
   ],
   "source": [
    "import pandas as pd\n",
    "sota_res = pd.read_csv(\"sota_res.csv\")\n",
    "sota_res_dict = {row[\"problem\"]: (row[\"distance\"], row[\"vehicle\"]) for _, row in sota_res.iterrows()}\n",
    "result_to_compare = [(\"hybrid\", \"amlt/vprtw_hybrid/vrptw_ortec/hybrid_res_ortec_20220707_1117.csv\"),\n",
    "                    #  (\"heuristic\", \"amlt/vrptw_heuristic/vrptw_ortec/heuristic_res_ortec_20220707_1306.csv\"),\n",
    "                     (\"ges\", \"amlt/vrptw_ges/vrp_ortec/ges_res_ortec_20220707_1309.csv\")]\n",
    "\n",
    "df = None\n",
    "for name, file_name in result_to_compare:\n",
    "    _df = pd.read_csv(file_name)\n",
    "    _df = _df[[\"problem\", \"vehicles\", 'total_cost']]\n",
    "    _df = _df[_df[\"vehicles\"] > 0]\n",
    "    _df.columns = [\"problem\", \"%s_vehicles\"%name, \"%s_cost\"%name]\n",
    "    if df is not None: df = pd.merge(df, _df)\n",
    "    else: df = _df.copy(deep=True)\n",
    "    \n",
    "df.loc[:, \"sota_vehicles\"] = df[\"problem\"].map(lambda x: sota_res_dict.get(str.lower(x.split('.')[0]), (1, 1))[1])\n",
    "df.loc[:, \"sota_cost\"] = df[\"problem\"].map(lambda x: sota_res_dict.get(str.lower(x.split('.')[0]), (1, 1))[0])\n",
    "print(df.head())\n",
    "df.mean(axis=0)"
   ]
  }
 ],
 "metadata": {
  "kernelspec": {
   "display_name": "Python 3.7.11 ('maroenv')",
   "language": "python",
   "name": "python3"
  },
  "language_info": {
   "codemirror_mode": {
    "name": "ipython",
    "version": 3
   },
   "file_extension": ".py",
   "mimetype": "text/x-python",
   "name": "python",
   "nbconvert_exporter": "python",
   "pygments_lexer": "ipython3",
   "version": "3.7.11"
  },
  "orig_nbformat": 4,
  "vscode": {
   "interpreter": {
    "hash": "7bfb4dee76fd0d7e747e2372d91b54936e7de42a794e03ff4e3ca4e66276bf07"
   }
  }
 },
 "nbformat": 4,
 "nbformat_minor": 2
}
